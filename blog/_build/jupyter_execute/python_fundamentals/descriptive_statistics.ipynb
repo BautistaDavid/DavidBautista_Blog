{
 "cells": [
  {
   "cell_type": "markdown",
   "metadata": {
    "colab_type": "text",
    "id": "view-in-github"
   },
   "source": [
    "<a href=\"https://colab.research.google.com/github/BautistaDavid/DavidBautista_Blog/blob/main/blog/python_fundamentals/descriptive_statistics.ipynb\" target=\"_parent\"><img src=\"https://colab.research.google.com/assets/colab-badge.svg\" alt=\"Open In Colab\"/></a>"
   ]
  },
  {
   "cell_type": "markdown",
   "metadata": {
    "id": "F2ZRZS4oy3ZV"
   },
   "source": [
    "## Python Class To Get Descriptive Statistics \n",
    "\n",
    "\n",
    "<p><span style=\"font-family: Helvetica;\"> I'm going to create a python class that allows us to reference an object and that its attributes are information related to the main descriptive statistics of a sample of n observations. This is an easy exercise to identify how the logic of classes, objects, functions and attributes works in python. </span></p>\n",
    "\n",
    "<p><span style=\"font-family: Helvetica;\">First of all it is important to identify the formulas of all the descriptive statistics that we are going to build in code using python. It is also important to say that <span style=\"color: rgb(220, 25, 27);\"> the main idea of this exercise is not to use any pre-existing Python modules.</span></span></p>\n",
    "\n",
    "#### What Are We Going To Calculate? \n",
    "\n",
    "<p><span style=\"font-family: Helvetica;\">Let's compute the following basic descriptive statistics: the mean, standard deviation, variance, median, kurtosis, skewness, and coefficient of variation. The formulas for those descriptive statistics are as follows:</span></p>\n",
    "\n",
    "**Mean:**\n",
    "\n",
    "$$\\bar{x} = \\frac{\\sum_{i=1}^{n} x_{i}}{n}$$\n",
    "\n",
    "**Standard Deviation:**\n",
    "\n",
    "$$\\sigma = \\sqrt{\\frac{\\sum_{i=1}^{n} (x_{i} - \\bar{x})^2}{n-1}}$$\n",
    "\n",
    "**Variance:**\n",
    "\n",
    "$$\\sigma^2 = \\frac{\\sum_{i=1}^{n} (x_{i} - \\bar{x})^2}{n-1}$$\n",
    "\n",
    "**Kurtosis:**\n",
    "\n",
    "$$k = \\frac{\\sum_{i=1}^{n} (x_{i} - \\bar{x})^4}{n *\\sigma^4}$$\n",
    "\n",
    "**Skewness:**\n",
    "\n",
    "$$k = \\frac{\\sum_{i=1}^{n} (x_{i} - \\bar{x})^3}{n *\\sigma^3}$$\n",
    "\n",
    "**Coefficient of Variation:**\n",
    "\n",
    "$$Cv = \\frac{\\sigma}{|\\bar{x}|}$$\n",
    "\n",
    "\n",
    "<p><span style=\"font-family: Helvetica;\">Now that we have the formulas of what we want to calculate, we simply have to set up the class and start creating methods for each statistic, even though we could also generate them as attributes of the object.</span></p>"
   ]
  },
  {
   "cell_type": "code",
   "execution_count": 1,
   "metadata": {
    "id": "9WqP4zIBy1RV"
   },
   "outputs": [],
   "source": [
    "class statistics:\n",
    "  \n",
    "  def __init__(self,lst):\n",
    "    self.lst = lst\n",
    "    return None\n",
    "\n",
    "  def mean(self): \n",
    "    return sum(self.lst) / len(self.lst)\n",
    "  \n",
    "  def stand_dev(self):\n",
    "    return (sum([(i - self.mean())**2 for i in self.lst]) / (len(self.lst)-1))**0.5  \n",
    "\n",
    "  def variance(self):\n",
    "    return self.stand_dev()**2\n",
    "\n",
    "  def median(self):\n",
    "    return (sorted(self.lst)[len(self.lst)//2] if len(self.lst)%2 != 0 \n",
    "            else (sorted(self.lst)[len(self.lst)//2-1]+sorted(self.lst)[len(self.lst)//2]) / 2)\n",
    "  \n",
    "  def kurtosis(self):\n",
    "    return  sum([(i - self.mean())**4 for i in self.lst]) / (len(self.lst)*self.stand_dev()**4)\n",
    "\n",
    "  def Skewness(self):\n",
    "    return  sum([(i -self.mean())**3 for i in self.lst]) / (len(self.lst)*self.stand_dev()**3)\n",
    "  \n",
    "  def coeff_variation(self):\n",
    "    return self.stand_dev() / abs(self.mean())"
   ]
  },
  {
   "cell_type": "markdown",
   "metadata": {
    "id": "1P6Y7U3VzHVB"
   },
   "source": [
    "#### Let's Test The Class\n",
    "\n",
    "\n",
    "<p><span style=\"font-family: Helvetica;\">That's it, our class has different methods that allow the object to calculate each statistic, let's try it!. To test our class we are going to generate a normal distribution using numpy, which has approximately mean 10, standard deviation 2.5 and with n equal to 100</span></p>"
   ]
  },
  {
   "cell_type": "code",
   "execution_count": 2,
   "metadata": {
    "colab": {
     "base_uri": "https://localhost:8080/"
    },
    "id": "2cYzhsEbzOhS",
    "outputId": "f8c4aca3-0b5c-4d72-e4e5-5a23f64ea421"
   },
   "outputs": [
    {
     "name": "stdout",
     "output_type": "stream",
     "text": [
      "Mean = 9.91483162901171\n",
      "Standard Deviation = 2.474039077505662\n"
     ]
    },
    {
     "name": "stdout",
     "output_type": "stream",
     "text": [
      "Variance = 6.120869357025068\n",
      "Median = 10.004512293667428\n"
     ]
    },
    {
     "name": "stdout",
     "output_type": "stream",
     "text": [
      "Kurtosis = 3.1426859546308448\n",
      "Skewness = -0.013361773256688312\n"
     ]
    },
    {
     "name": "stdout",
     "output_type": "stream",
     "text": [
      "Coefficient of Variation = 0.24952910650206062\n"
     ]
    }
   ],
   "source": [
    "import numpy as np\n",
    "# Let's create the array\n",
    "lst = np.random.normal(10,2.5,1000)\n",
    "\n",
    "my_object = statistics(lst) # Nos let's create the object and use the methods\n",
    "\n",
    "print(f'Mean = {my_object.mean()}')\n",
    "print(f'Standard Deviation = {my_object.stand_dev()}')\n",
    "print(f'Variance = {my_object.variance()}')\n",
    "print(f'Median = {my_object.median()}')\n",
    "print(f'Kurtosis = {my_object.kurtosis()}')\n",
    "print(f'Skewness = {my_object.Skewness()}')\n",
    "print(f'Coefficient of Variation = {my_object.coeff_variation()}')"
   ]
  },
  {
   "cell_type": "markdown",
   "metadata": {
    "id": "88k5Hraa3hYp"
   },
   "source": [
    "<p><span style=\"font-family: Helvetica;\">Now that we know some descriptive statistics of this sample we can additionally visualize a BoxPlot of the sample</span></p>"
   ]
  },
  {
   "cell_type": "code",
   "execution_count": 3,
   "metadata": {
    "colab": {
     "base_uri": "https://localhost:8080/",
     "height": 233
    },
    "id": "VgEKxEvEzel6",
    "outputId": "8adb72fa-2089-4be6-fe5e-a475f844a92e"
   },
   "outputs": [
    {
     "data": {
      "image/png": "[encoded data removed]",
      "text/plain": [
       "<Figure size 504x216 with 1 Axes>"
      ]
     },
     "metadata": {
      "filenames": {
       "image/png": "C:\\Users\\dfbb2\\Desktop\\DavidBautista_Blog\\blog\\_build\\jupyter_execute\\python_fundamentals\\descriptive_statistics_6_0.png"
      },
      "needs_background": "light"
     },
     "output_type": "display_data"
    }
   ],
   "source": [
    "import seaborn as sns \n",
    "import matplotlib.pyplot as plt\n",
    "fig = plt.figure(figsize=(7,3))\n",
    "plt.suptitle('BoxPlot Sample')\n",
    "sns.boxplot(x=lst,palette='rainbow')\n",
    "plt.axvline(my_object.mean(),label='Mean',linestyle='--')\n",
    "plt.legend()\n",
    "plt.show()\n"
   ]
  },
  {
   "cell_type": "markdown",
   "metadata": {
    "id": "iXQ_Lpci-OcX"
   },
   "source": [
    "#### Methods or Attributes... \n",
    "\n",
    "<p><span style=\"font-family: Helvetica;\">Now we are going to build the same class but we change things a bit... The idea now is that each descriptive statistic is configured as an attribute of the object and not as a method</span></p>"
   ]
  },
  {
   "cell_type": "code",
   "execution_count": 4,
   "metadata": {
    "id": "5yzmgHaz1y8Z"
   },
   "outputs": [],
   "source": [
    "class statistics:\n",
    "  \n",
    "  def __init__(self,lst):\n",
    "    self.lst = lst\n",
    "    # Let's create more attributes \n",
    "    self.mean = sum(self.lst) / len(self.lst)\n",
    "    self.stand_dev = (sum([(i - self.mean)**2 for i in self.lst]) / (len(self.lst)-1))**0.5  \n",
    "    self.variance = self.stand_dev**2\n",
    "    self.median = (sorted(self.lst)[len(self.lst)//2] if len(self.lst)%2 != 0 \n",
    "            else (sorted(self.lst)[len(self.lst)//2-1]+sorted(self.lst)[len(self.lst)//2]) / 2)\n",
    "    self.kurtosis = sum([(i - self.mean)**4 for i in self.lst]) / (len(self.lst)*self.stand_dev**4)\n",
    "    self.skewness = sum([(i -self.mean)**3 for i in self.lst]) / (len(self.lst)*self.stand_dev**3) \n",
    "    self.coeff_variation = self.stand_dev / abs(self.mean)\n",
    "\n",
    "  # Now let's create a summarize method \n",
    "  def summarize(self):\n",
    "    print(f'Mean = {self.mean}')\n",
    "    print(f'Standard Deviation = {self.stand_dev}')\n",
    "    print(f'Variance = {self.variance}')\n",
    "    print(f'Median = {self.median}')\n",
    "    print(f'Kurtosis = {self.kurtosis}')\n",
    "    print(f'Skewness = {self.skewness}')\n",
    "    print(f'Coefficient of Variation = {self.coeff_variation}')\n",
    "  \n",
    "\n"
   ]
  },
  {
   "cell_type": "code",
   "execution_count": 5,
   "metadata": {
    "colab": {
     "base_uri": "https://localhost:8080/"
    },
    "id": "T8cGejNTAwwR",
    "outputId": "b2c594af-f020-49ed-df35-5cf48858861d"
   },
   "outputs": [
    {
     "name": "stdout",
     "output_type": "stream",
     "text": [
      "Mean = 9.91483162901171\n",
      "Standard Deviation = 2.474039077505662\n",
      "Variance = 6.120869357025068\n",
      "Median = 10.004512293667428\n",
      "Kurtosis = 3.1426859546308448\n",
      "Skewness = -0.013361773256688312\n",
      "Coefficient of Variation = 0.24952910650206062\n"
     ]
    }
   ],
   "source": [
    "my_object = statistics(lst)\n",
    "my_object.summarize()"
   ]
  },
  {
   "cell_type": "markdown",
   "metadata": {},
   "source": [
    "#### Some Conclusions\n",
    "\n",
    "<p><span style=\"font-family: Helvetica;\">Understanding the differences between concepts such as methods and attributes is important if you want to start building more complex classes and packages. Both methods and attributes have their special features and can be used in certain ways. I invite you to think and create classes with python for any kind of thing that comes to mind.</span></p>"
   ]
  }
 ],
 "metadata": {
  "colab": {
   "authorship_tag": "ABX9TyP1FC/5SmzGjFvP5j7zWXoL",
   "include_colab_link": true,
   "name": "descriptive_statistics.ipynb",
   "provenance": []
  },
  "kernelspec": {
   "display_name": "Python 3.9.6 64-bit",
   "language": "python",
   "name": "python3"
  },
  "language_info": {
   "codemirror_mode": {
    "name": "ipython",
    "version": 3
   },
   "file_extension": ".py",
   "mimetype": "text/x-python",
   "name": "python",
   "nbconvert_exporter": "python",
   "pygments_lexer": "ipython3",
   "version": "3.9.6"
  },
  "vscode": {
   "interpreter": {
    "hash": "11938c6bc6919ae2720b4d5011047913343b08a43b18698fd82dedb0d4417594"
   }
  }
 },
 "nbformat": 4,
 "nbformat_minor": 0
}