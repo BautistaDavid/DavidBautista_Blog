{
 "cells": [
  {
   "cell_type": "markdown",
   "metadata": {},
   "source": [
    "## Python Class To Get Descriptive Statistics \n",
    "\n",
    "\n",
    "<p><span style=\"font-family: Helvetica;\"> I'm going to create a python class that allows us to reference an object and that its attributes are information related to the main descriptive statistics of a sample of n observations. This is an easy exercise to identify how the logic of classes, objects, functions and attributes works in python. </span></p>\n",
    "\n",
    "<p><span style=\"font-family: Helvetica;\">First of all it is important to identify the formulas of all the descriptive statistics that we are going to build in code using python. It is also important to say that <span style=\"color: rgb(220, 25, 27);\"> the main idea of this exercise is not to use any pre-existing Python modules.</span></span></p>\n",
    "\n",
    "#### What Are We Going To Calculate? \n",
    "\n",
    "Let's compute the following basic descriptive statistics: the mean, standard deviation, variance, median, kurtosis, skewness, and coefficient of variation. The formulas for those descriptive statistics are as follows:\n",
    "\n",
    "**Mean:**\n",
    "\n",
    "$$\\bar{x} = \\frac{\\sum_{i=1}^{n} x_{i}}{n}$$\n",
    "\n",
    "**Standard Deviation:**\n",
    "\n",
    "$$\\sigma = \\sqrt{\\frac{\\sum_{i=1}^{n} (x_{i} - \\bar{x})^2}{n-1}}$$\n",
    "\n",
    "**Variance:**\n",
    "\n",
    "$$\\sigma^2 = \\frac{\\sum_{i=1}^{n} (x_{i} - \\bar{x})^2}{n-1}$$\n",
    "\n",
    "**Kurtosis:**\n",
    "\n",
    "$$k = \\frac{\\sum_{i=1}^{n} (x_{i} - \\bar{x})^4}{n *\\sigma^4}$$\n",
    "\n",
    "**Skewness:**\n",
    "\n",
    "$$k = \\frac{\\sum_{i=1}^{n} (x_{i} - \\bar{x})^3}{n *\\sigma^3}$$\n",
    "\n",
    "**Coefficient of Variation:**\n",
    "\n",
    "$$Cv = \\frac{\\sigma}{|\\bar{x}|}$$\n",
    "\n",
    "Now that we have the formulas of what we want to calculate, we simply have to set up the class and start creating methods for each statistic, even though we could also generate them as attributes of the object."
   ]
  },
  {
   "cell_type": "code",
   "execution_count": 73,
   "metadata": {},
   "outputs": [],
   "source": [
    "class statistics:\n",
    "  \n",
    "  def __init__(self,lst):\n",
    "    self.lst = lst\n",
    "    return None\n",
    "\n",
    "  def mean(self): \n",
    "    return sum(self.lst) / len(self.lst)\n",
    "  \n",
    "  def stand_dev(self):\n",
    "    return (sum([(i - self.mean())**2 for i in self.lst]) / (len(self.lst)-1))**0.5  \n",
    "\n",
    "  def variance(self):\n",
    "    return self.stand_dev()**2\n",
    "\n",
    "  def median(self):\n",
    "    return (sorted(self.lst)[len(self.lst)//2] if len(self.lst)%2 != 0 \n",
    "            else (sorted(self.lst)[len(self.lst)//2-1]+sorted(self.lst)[len(self.lst)//2]) / 2)\n",
    "  \n",
    "  def kurtosis(self):\n",
    "    return  sum([(i - self.mean())**4 for i in self.lst]) / (len(self.lst)*self.stand_dev()**4)\n",
    "\n",
    "  def Skewness(self):\n",
    "    return  sum([(i -self.mean())**3 for i in self.lst]) / (len(self.lst)*self.stand_dev()**3)\n",
    "  \n",
    "  def coeff_variation(self):\n",
    "    return self.stand_dev() / abs(self.mean())"
   ]
  },
  {
   "cell_type": "markdown",
   "metadata": {},
   "source": [
    "#### Let's Test The Class\n",
    "\n",
    "That's it, our class has different methods that allow the object to calculate each statistic, let's try it!. To test our class we are going to generate a normal distribution using ```numpy```, which has approximately mean 10, standard deviation 2.5 and with $n$ equal to 100"
   ]
  },
  {
   "cell_type": "code",
   "execution_count": 74,
   "metadata": {},
   "outputs": [
    {
     "name": "stdout",
     "output_type": "stream",
     "text": [
      "Mean = 10.021770995848719\n",
      "Standard Deviation = 2.5316005055768147\n",
      "Variance = 6.409001119836784\n",
      "Median = 9.848780664420005\n",
      "Kurtosis = 3.1281232039032676\n",
      "Skewness = 0.10022596573841902\n",
      "Coefficient of Variation = 0.2526100932285791\n"
     ]
    }
   ],
   "source": [
    "import numpy as np\n",
    "# Let's create the array\n",
    "lst = np.random.normal(10,2.5,1000)\n",
    "\n",
    "my_object = statistics(lst) # Nos let's create the object and use the methods\n",
    "\n",
    "print(f'Mean = {my_object.mean()}')\n",
    "print(f'Standard Deviation = {my_object.stand_dev()}')\n",
    "print(f'Variance = {my_object.variance()}')\n",
    "print(f'Median = {my_object.median()}')\n",
    "print(f'Kurtosis = {my_object.kurtosis()}')\n",
    "print(f'Skewness = {my_object.Skewness()}')\n",
    "print(f'Coefficient of Variation = {my_object.coeff_variation()}')"
   ]
  },
  {
   "cell_type": "code",
   "execution_count": 75,
   "metadata": {},
   "outputs": [
    {
     "data": {
      "image/png": "[encoded data removed]",
      "text/plain": [
       "<Figure size 576x288 with 1 Axes>"
      ]
     },
     "metadata": {
      "needs_background": "light"
     },
     "output_type": "display_data"
    }
   ],
   "source": [
    "import matplotlib.pyplot as plt\n",
    "fig = plt.figure(figsize=(8,4))\n",
    "plt.suptitle('Histogram Array',fontsize=16)\n",
    "plt.hist(lst,color='red',alpha=0.7, bins=50)\n",
    "plt.show()"
   ]
  },
  {
   "cell_type": "markdown",
   "metadata": {},
   "source": [
    "```python\n",
    "\n",
    "class statistics:\n",
    "  \n",
    "  def __init__(self,lst):\n",
    "    self.lst = lst\n",
    "    return None\n",
    "\n",
    "  def mean(self): \n",
    "    return sum(self.lst) / len(self.lst)\n",
    "  \n",
    "  def stand_dev(self):\n",
    "    return (sum([(i - self.mean())**2 for i in self.lst]) / (len(self.lst)-1))**0.5  \n",
    "\n",
    "  def variance(self):\n",
    "    return self.stand_dev()**2\n",
    "\n",
    "  def median(self):\n",
    "    return (sorted(self.lst)[len(self.lst)//2] if len(self.lst)%2 != 0 \n",
    "            else (sorted(self.lst)[len(self.lst)//2-1]+sorted(self.lst)[len(self.lst)//2]) / 2)\n",
    "  \n",
    "  def kurtosis(self):\n",
    "    return  sum([(i - self.mean())**4 for i in self.lst]) / (len(self.lst)*self.stand_dev()**4)\n",
    "\n",
    "  def Skewness(self):\n",
    "    return  sum([(i -self.mean())**3 for i in self.lst]) / (len(self.lst)*self.stand_dev()**3)\n",
    "  \n",
    "  def coeff_variation(self):\n",
    "    return self.stand_dev() / abs(self.mean())\n",
    "\n",
    "```"
   ]
  },
  {
   "cell_type": "markdown",
   "metadata": {},
   "source": []
  }
 ],
 "metadata": {
  "kernelspec": {
   "display_name": "Python 3.9.6 64-bit",
   "language": "python",
   "name": "python3"
  },
  "language_info": {
   "codemirror_mode": {
    "name": "ipython",
    "version": 3
   },
   "file_extension": ".py",
   "mimetype": "text/x-python",
   "name": "python",
   "nbconvert_exporter": "python",
   "pygments_lexer": "ipython3",
   "version": "3.9.6"
  },
  "orig_nbformat": 4,
  "vscode": {
   "interpreter": {
    "hash": "11938c6bc6919ae2720b4d5011047913343b08a43b18698fd82dedb0d4417594"
   }
  }
 },
 "nbformat": 4,
 "nbformat_minor": 2
}
